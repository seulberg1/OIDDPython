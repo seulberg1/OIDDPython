{
 "cells": [
  {
   "cell_type": "markdown",
   "metadata": {},
   "source": [
    "## Disclaimers"
   ]
  },
  {
   "cell_type": "markdown",
   "metadata": {},
   "source": [
    "* Coding is a classic learning-by-doing skill. It is good to learn the basics in a structured manner, but most learning happens if you just try and code things that interest you. Just try it and google the errors/bugs that arise.\n",
    "* Different people learn different coding concepts at different speeds and will need coding for entirely different reasons. There are multiple ways to achieve most coding outcomes and as long as you find a way that works for you, thats fine.\n",
    "* If you are having a problem - chances are you are not the first person to have said issue. Coding provides a great opportunity to hone the skill of finding the relevant piece of knowledge on the internet and applying it to your needs.\n",
    "***"
   ]
  },
  {
   "cell_type": "markdown",
   "metadata": {},
   "source": [
    "## Jupyter Notebooks\n",
    "Jupyter Notebooks are organized in cells. Every cell can either be **code**, which is executable commands in python or **markdown**, which allows you to write free-form text such as this cell.\n",
    "\n",
    "It is helpful in commenting/structuring your code. E.g. by telling other users or reminding yourself what a code section is about."
   ]
  },
  {
   "cell_type": "markdown",
   "metadata": {},
   "source": [
    "***\n",
    "## Python basics"
   ]
  },
  {
   "cell_type": "markdown",
   "metadata": {},
   "source": [
    "### The print command"
   ]
  },
  {
   "cell_type": "markdown",
   "metadata": {},
   "source": [
    "In order to print anything, so you can see output, you can use **print()** and write whatever content you want printed within the paranthesis. If you want text printed, you need to enclose the text within parantheses. The coding classic is to print *Hello World* to see that your programming language setup is working.\n",
    "\n",
    "Run the following cell by clicking in it and pressing **Shift+Enter** or **Run** in the ribbon line at the top."
   ]
  },
  {
   "cell_type": "code",
   "execution_count": null,
   "metadata": {},
   "outputs": [],
   "source": [
    "print(\"Hello World\")"
   ]
  },
  {
   "cell_type": "markdown",
   "metadata": {},
   "source": [
    "Note that, if you do not enclose the text in parantheses, it causes an error."
   ]
  },
  {
   "cell_type": "code",
   "execution_count": null,
   "metadata": {},
   "outputs": [],
   "source": [
    "print(Hello World)"
   ]
  },
  {
   "cell_type": "markdown",
   "metadata": {},
   "source": [
    "Printing numbers works similarly:"
   ]
  },
  {
   "cell_type": "code",
   "execution_count": null,
   "metadata": {},
   "outputs": [],
   "source": [
    "print(15)"
   ]
  },
  {
   "cell_type": "markdown",
   "metadata": {},
   "source": [
    "### Variables"
   ]
  },
  {
   "cell_type": "markdown",
   "metadata": {},
   "source": [
    "You can assign values on the RHS of an equal sign to variables on the LHS of the equal sign. You can freely choose any name for your variable (combination of letters and numbers and some special characters):"
   ]
  },
  {
   "cell_type": "code",
   "execution_count": null,
   "metadata": {},
   "outputs": [],
   "source": [
    "x = 2 #how to assign the value 2 to a variable called x\n",
    "y = 4\n",
    "crazyVariablenme_32151_ = 6\n",
    "print(x) #Printing the first variable\n",
    "print(y)\n",
    "print(crazyVariablenme_32151_)"
   ]
  },
  {
   "cell_type": "markdown",
   "metadata": {},
   "source": [
    "In addition to markdown cells, it is often convenient to comment within a code cell. Everything in a row after a # sign will be commented out and is understood to not be code."
   ]
  },
  {
   "cell_type": "markdown",
   "metadata": {},
   "source": [
    "Code is executed line by line from top to bottom within each cell, so if you assign the value 2 to variable x and then at some point further down assign x the value 3, it will overwrite the previous value."
   ]
  },
  {
   "cell_type": "code",
   "execution_count": null,
   "metadata": {},
   "outputs": [],
   "source": [
    "x = 2\n",
    "x = 3\n",
    "print(x)   #Runs line by line"
   ]
  },
  {
   "cell_type": "markdown",
   "metadata": {},
   "source": [
    "In assignments, the RHS is evaluated first and that value is stored in the variable on the LHS. `x = 10 * x` is therefore a perfectly valid statement. A single equal sign is not a mathematical equality."
   ]
  },
  {
   "cell_type": "code",
   "execution_count": null,
   "metadata": {},
   "outputs": [],
   "source": [
    "x = 2\n",
    "x = 10 * x #This also works as an assignment\n",
    "print(x)   "
   ]
  },
  {
   "cell_type": "markdown",
   "metadata": {},
   "source": [
    "### Math"
   ]
  },
  {
   "cell_type": "markdown",
   "metadata": {},
   "source": [
    "You can do math with variables, as you would expect. Note that, in order to raise something to the power, you use `**`.\n",
    "Also note, how you can **print multiple things in one print statement**, by separating it with commas."
   ]
  },
  {
   "cell_type": "code",
   "execution_count": null,
   "metadata": {},
   "outputs": [],
   "source": [
    "num1 = 2.5 #call your variables almost anything\n",
    "num2 = 4\n",
    "total = num1 + num2 #Do Math\n",
    "minus = num1 - num2\n",
    "multi = num1 * num2\n",
    "division = num1 / num2\n",
    "power = num1 ** num2\n",
    "print (total, minus, multi, division, power)# Print out multiple things"
   ]
  },
  {
   "cell_type": "markdown",
   "metadata": {},
   "source": [
    "Careful with **strings** (anything withhin \" \" is interpreted as text). Adding strings, simply means appending them."
   ]
  },
  {
   "cell_type": "code",
   "execution_count": null,
   "metadata": {},
   "outputs": [],
   "source": [
    "num3 = \"3\"\n",
    "num4 = \"5\"\n",
    "total2 = num3+num4\n",
    "print(total2) #What do you expect as the outcome Strings are not numbers"
   ]
  },
  {
   "cell_type": "markdown",
   "metadata": {},
   "source": [
    "It can be useful to append strings:"
   ]
  },
  {
   "cell_type": "code",
   "execution_count": null,
   "metadata": {},
   "outputs": [],
   "source": [
    "first = \"Christian\"\n",
    "last = \"Kaps\"\n",
    "name = first + last #strings concatenate\n",
    "print(name)\n",
    "name = first + \" \" + last \n",
    "print(name) #overwrite name with proper spacing"
   ]
  },
  {
   "cell_type": "markdown",
   "metadata": {},
   "source": [
    "You can also evaluate equalities / check if statements are true. `==` checks if the LHS and RHS are equal `!=` checks if they are unequal and `>=` `<=` test for inequalities. These **true/false** statements are called **booleans**."
   ]
  },
  {
   "cell_type": "code",
   "execution_count": null,
   "metadata": {},
   "outputs": [],
   "source": [
    "print(13 == 12) #booleans\n",
    "print(24/2 == 12)\n",
    "print(13 != 12)\n",
    "print(13 >= 12)\n",
    "False"
   ]
  },
  {
   "cell_type": "markdown",
   "metadata": {},
   "source": [
    "### Loops"
   ]
  },
  {
   "cell_type": "markdown",
   "metadata": {},
   "source": [
    "The real magic of coding does not arrise from using Python merely as a calculator, but by having code repeatedly executed. One way of achieving repeated execution are **loops**.\n",
    "The following is called a **for-loop** and three things are noteworthy: \n",
    "1. The code consists of one line that starts the loop. `for variablename in range(howManyIterationsToExecute):`\n",
    "    and is followed by  all statements that you want to execute repeadetly. Note the colon at the end.\n",
    "2. All code that is supposed to be repeatedly executed has to be indented. This indentation shows Python what code is within the for loop.\n",
    "3. Python zero-indexes, so if you want to count the first 10 numbers `range(10)`, it will print 0-9, not 1-10."
   ]
  },
  {
   "cell_type": "code",
   "execution_count": null,
   "metadata": {},
   "outputs": [],
   "source": [
    "for x in range(10):\n",
    "    print(x)\n",
    "    print(\"hello\")"
   ]
  },
  {
   "cell_type": "markdown",
   "metadata": {},
   "source": [
    "In the **range** statement, you can optionally provide the **startvalue, endvalue, step-size** to change what the loop goes through: "
   ]
  },
  {
   "cell_type": "code",
   "execution_count": null,
   "metadata": {},
   "outputs": [],
   "source": [
    "for x in range(1990,2000,3):\n",
    "    print(x) #Loop"
   ]
  },
  {
   "cell_type": "markdown",
   "metadata": {},
   "source": [
    "### If-else statements"
   ]
  },
  {
   "cell_type": "markdown",
   "metadata": {},
   "source": [
    "Another very useful control mechanism are so-called **if-else** statements, where code is only executed if certain conditions are met. The syntax is\n",
    "\n",
    "    if condition1:\n",
    "        execute if condition1 is true\n",
    "    else:\n",
    "        execute if condition 1 is false"
   ]
  },
  {
   "cell_type": "code",
   "execution_count": null,
   "metadata": {},
   "outputs": [],
   "source": [
    "testnum = 13 #If statement\n",
    "\n",
    "if testnum> 10:\n",
    "    print(\"LARGE\")\n",
    "else:\n",
    "    print(\"small\")"
   ]
  },
  {
   "cell_type": "markdown",
   "metadata": {},
   "source": [
    "Combining for loops and if-else statements becomes powerful quickly"
   ]
  },
  {
   "cell_type": "code",
   "execution_count": null,
   "metadata": {},
   "outputs": [],
   "source": [
    "for x in range(20): #combine the two things\n",
    "    if x > 10:\n",
    "        print(\"LARGE\")\n",
    "    else:\n",
    "        print(\"small\")"
   ]
  },
  {
   "cell_type": "markdown",
   "metadata": {},
   "source": [
    "`%` is the **modulo** operator - that returns the remainder if you divide one integer by another."
   ]
  },
  {
   "cell_type": "code",
   "execution_count": null,
   "metadata": {},
   "outputs": [],
   "source": [
    "for x in range (100, 200, 33):\n",
    "    if x % 2 == 0:\n",
    "        print(x, \"Even\")\n",
    "    else:\n",
    "        print(x, \"Odd\")"
   ]
  },
  {
   "cell_type": "markdown",
   "metadata": {},
   "source": [
    "- - - \n",
    "With some of the core control statements out of the way, lets get a little more advanced. If this feels like drinking from the firehose - don't worry, coding is eternally open book, no memorization needed, just try to wrap your head around as many concepts as possible and look up the exact syntax whenever you need to).\n",
    "- - -\n",
    "### User defined formulas"
   ]
  },
  {
   "cell_type": "markdown",
   "metadata": {},
   "source": [
    "Using the syntax `def myFunctionName(inputVariables):` you can define your own functions. Below, we define a function that checks if you are at the voting age in 2021."
   ]
  },
  {
   "cell_type": "code",
   "execution_count": null,
   "metadata": {},
   "outputs": [],
   "source": [
    "def votingRight(yearBorn):\n",
    "    Age = 2021 - yearBorn #Calculate Someting\n",
    "    voting =  (Age >= 18) #Check whether person is 18\n",
    "    if voting == True:\n",
    "        print(\"You are \" + str(Age) + \" years old and allowed to vote\" ) #If 18, print this out\n",
    "    else:\n",
    "        print(\"You are \" + str(Age) + \" years young and cannot vote yet\" )"
   ]
  },
  {
   "cell_type": "markdown",
   "metadata": {},
   "source": [
    "You then call the function by using the name you defined and entering the yearBorn variable into the parantheses"
   ]
  },
  {
   "cell_type": "code",
   "execution_count": null,
   "metadata": {},
   "outputs": [],
   "source": [
    "votingRight(1993)\n",
    "votingRight(1850)\n",
    "votingRight(2005)"
   ]
  },
  {
   "cell_type": "markdown",
   "metadata": {},
   "source": [
    "### Importing packages"
   ]
  },
  {
   "cell_type": "markdown",
   "metadata": {},
   "source": [
    "Python is great, because many programmers have already written alot of difficult code, easily packaged in so-called packages (who would have thought). During the installation process, you already installed **pandas and jupyter**, which automatically installed numpy (because pandas requires numpy as a dependency) as well. We will use **numpy** as an example to briefly show how it allows to very quickly do tremendous pieces of coding. Numpy allows you to do a lot of numerical manipulation in Python."
   ]
  },
  {
   "cell_type": "code",
   "execution_count": null,
   "metadata": {},
   "outputs": [],
   "source": [
    "import numpy #this loads all the contents of the numpy package"
   ]
  },
  {
   "cell_type": "markdown",
   "metadata": {},
   "source": [
    "Learning how to help yourself to solve coding problems is a core skill to develop. Don't know how to get a random number in Python, but know that numpy does number stuff? Just google *numpy how to get random number* and you will find results that teach you what to do"
   ]
  },
  {
   "cell_type": "code",
   "execution_count": null,
   "metadata": {},
   "outputs": [],
   "source": [
    "numpy.random.seed(123)\n",
    "mean = 100\n",
    "std = 20\n",
    "normalDemand = numpy.random.normal(mean, std)\n",
    "print(normalDemand)\n",
    "morenormalDemands = numpy.random.normal(mean, std, size = 10)\n",
    "print(morenormalDemands)"
   ]
  },
  {
   "cell_type": "markdown",
   "metadata": {},
   "source": [
    "Get 100 random integers between 0 and 35"
   ]
  },
  {
   "cell_type": "code",
   "execution_count": null,
   "metadata": {},
   "outputs": [],
   "source": [
    "numpy.random.randint(0,36,100)"
   ]
  },
  {
   "cell_type": "markdown",
   "metadata": {},
   "source": [
    "Guess you want to plot some of this, so google: *plot a histogram in python*:\n",
    "https://stackoverflow.com/questions/33203645/how-to-plot-a-histogram-using-matplotlib-in-python-with-a-list-of-data"
   ]
  },
  {
   "cell_type": "markdown",
   "metadata": {},
   "source": [
    "You see in the first answer on Stackoverflow that you can name your packages when importing them by using `import packageWithLongname as nickname`, so we will follow that convention for the numpy package we previously imported and the matplotlib library that will help us plot."
   ]
  },
  {
   "cell_type": "code",
   "execution_count": null,
   "metadata": {},
   "outputs": [],
   "source": [
    "import numpy as np\n",
    "import matplotlib.pyplot as plt #https://stackoverflow.com/questions/33203645/how-to-plot-a-histogram-using-matplotlib-in-python-with-a-list-of-data"
   ]
  },
  {
   "cell_type": "markdown",
   "metadata": {},
   "source": [
    "If you just got error **ModuleNotFoundError: No module named 'matplotlib'**, Python is telling you that it does not know what matplotlib is. To solve this, 1) go to Anaconda Navigator > Environments, 2) select the current environment and 3) install matplotlib. Then come back here and it should be able to import the package.\n"
   ]
  },
  {
   "cell_type": "markdown",
   "metadata": {},
   "source": [
    "Now flip 10 coins 1000 times and get the distribution of how many heads you have in each of the 1000 tries"
   ]
  },
  {
   "cell_type": "code",
   "execution_count": null,
   "metadata": {},
   "outputs": [],
   "source": [
    "x = np.random.normal(100,20,1000) #Draw 1000 times from a normal distribution with mean 100 and std dev 20\n",
    "plt.hist(x)"
   ]
  },
  {
   "cell_type": "markdown",
   "metadata": {},
   "source": [
    "### Lists"
   ]
  },
  {
   "cell_type": "markdown",
   "metadata": {},
   "source": [
    "Lists are a great way of storing data in an easy ay to sort / filter them or to do math on multiple items:"
   ]
  },
  {
   "cell_type": "code",
   "execution_count": null,
   "metadata": {},
   "outputs": [],
   "source": [
    "y = []\n",
    "print(y)"
   ]
  },
  {
   "cell_type": "code",
   "execution_count": null,
   "metadata": {},
   "outputs": [],
   "source": [
    "y = [] #Creates ana empty list and stores it in variable y\n",
    "print(y)\n",
    "y.append(2) #Appends the number 2 to the list\n",
    "print(y)\n",
    "y.append(4) #Appends the number 4 to the list\n",
    "print(y)"
   ]
  },
  {
   "cell_type": "markdown",
   "metadata": {},
   "source": [
    "You can append different datatypes into lists as well, and retrieve them with `list[integer]`"
   ]
  },
  {
   "cell_type": "code",
   "execution_count": null,
   "metadata": {},
   "outputs": [],
   "source": [
    "list1 = [1945, \"wharton\", \"oidd\", \"python\", True] \n",
    "list1[3] #beware of zero indexing"
   ]
  },
  {
   "cell_type": "markdown",
   "metadata": {},
   "source": [
    "There are many pre-defined functions to work on lists, such as `len(listname)` or `sorted(listname)` that, shockingly, return the length of the list or sort its items. For more info: https://www.datacamp.com/community/tutorials/python-list-function"
   ]
  },
  {
   "cell_type": "code",
   "execution_count": null,
   "metadata": {},
   "outputs": [],
   "source": [
    "list2 = [16, 12, 1, 3, 5, 7, 8, 8, 10]\n",
    "print(len(list2))\n",
    "print(sorted(list2))"
   ]
  },
  {
   "cell_type": "markdown",
   "metadata": {},
   "source": [
    "### Dictionaries"
   ]
  },
  {
   "cell_type": "markdown",
   "metadata": {},
   "source": [
    "In the interest of time, we are not going to introduce dictionaries here, but they are a very useful way of storing data, based on keywords. Check the 101 jupyter notebook or google for more details."
   ]
  },
  {
   "cell_type": "markdown",
   "metadata": {},
   "source": [
    "### Arrays"
   ]
  },
  {
   "cell_type": "markdown",
   "metadata": {},
   "source": [
    "Often times, you want to deal with tables or data that is structured in arrays (matrices with rows and columns). You access values in an array by `array[rownumber,columnnumber]` and remembering Python's zero indexing"
   ]
  },
  {
   "cell_type": "code",
   "execution_count": null,
   "metadata": {},
   "outputs": [],
   "source": [
    "myArray = np.zeros(shape=(3,6)) #Creates an array with 3 rows and  6 colums of 0s\n",
    "print(myArray.shape) #prints the dimensions of the Array\n",
    "print(myArray)\n",
    "myArray[0,0]= 1 #Write 1 into the top left corner\n",
    "myArray[2,5] = 13 #Write 13 in the bottom left corner\n",
    "print(myArray)"
   ]
  },
  {
   "cell_type": "markdown",
   "metadata": {},
   "source": [
    "In the following, we assign two variables at once, because the myArray.shape returns a tuple (two values) that can be directly assigned and the use two nested for loops to change the values of the values in the Array. Just by recombining the basic building blocks, one can get useful pieces of code."
   ]
  },
  {
   "cell_type": "code",
   "execution_count": null,
   "metadata": {},
   "outputs": [],
   "source": [
    "myArray.shape"
   ]
  },
  {
   "cell_type": "code",
   "execution_count": null,
   "metadata": {},
   "outputs": [],
   "source": [
    "numRows, numCols = myArray.shape\n",
    "for row in range(numRows):\n",
    "    for col in range(numCols):\n",
    "        myArray[row, col] = row*10+col\n",
    "print(myArray)"
   ]
  },
  {
   "cell_type": "markdown",
   "metadata": {},
   "source": [
    "***\n",
    "Take a quick breather, you so far have learned about:\n",
    "\n",
    "    - Defining and using variables (integers, strings, booleans)   \n",
    "    - Doing math in Python\n",
    "    - Python code structure and indentation\n",
    "    - For loops\n",
    "    - If, else statements\n",
    "    - Importing Packages\n",
    "    - Random Numbers\n",
    "    - Plotting\n",
    "    - Lists\n",
    "    - Arrays\n",
    "***"
   ]
  },
  {
   "cell_type": "markdown",
   "metadata": {},
   "source": [
    "## Example BlueSky Airlines\n",
    "*Maria Oktopodaki, the head of revenue management at BlueSky Airlines, has been struggling with one particularly problematic flight, between Lincoln (Nebraska) and New York. On that flight, the airline operates a small plane, with a capacity of 200 seats, and is offering two different fare classes: a full fare (FF), for 850USD, and a \\'super saver\\' (SS) fare, for 350USD. To qualify for the SS fare, customers must purchase at least 2 months in advance (before the flight date), and are required to have a Saturday-night stay in New York. In contrast, FF is very flexible, and is offered up until the date of the flight, if seats are still available. In fact, historically, the FF customers are almost exclusively business travelers, who always make last-minute purchases, and are not price-sensitive...* \n",
    "\n",
    "*Using historical data, Maria estimated that the mean demand for SS fares is roughly 130, and the mean demand for FF fares is roughly 55. She would like to build a model to guide her decisions. A key operational lever under her control is the \\'booking limit\\' for the SS fare, i.e., how many seats to make available to SS customers. Historically, that value was set at 120, but Maria is not sure that’s right. She knows that, the larger that limit is, the fewer seats she might have available for (higher-paying) FF customers...*"
   ]
  },
  {
   "cell_type": "markdown",
   "metadata": {},
   "source": [
    "- - -\n",
    "### Question 1\n",
    "*Assume that the demand for each fare class is exactly equal to its mean (e.g., the demand for SS fares is 130). Build a spreadsheet model that predicts the revenue for one Lincoln- NYC flight when the booking limit (for SS fare) is set to 120.* \n"
   ]
  },
  {
   "cell_type": "markdown",
   "metadata": {},
   "source": [
    "First, we just store all the information we have been given in variables, so we can quickly access them later. Use whatever names you want and can remember. Typically there is a sweetspot between variable names being short while still being intelligable."
   ]
  },
  {
   "cell_type": "code",
   "execution_count": null,
   "metadata": {},
   "outputs": [],
   "source": [
    "cap = 200\n",
    "priceFF = 850\n",
    "priceSS = 350\n",
    "demSS = 130\n",
    "demFF = 55\n",
    "limit = 120"
   ]
  },
  {
   "cell_type": "markdown",
   "metadata": {},
   "source": [
    "The Excel model equivalent in Python is a user-defined function. You define which inputs it takes, what do to with it and which outputs you want. \n",
    "\n",
    "Despite what the assignment prompt says [sorry Hamsa:)], we will start with a very simple function and iteratively improve on it, so the individual steps are more easily digestible. Lets get started with the first try:"
   ]
  },
  {
   "cell_type": "code",
   "execution_count": null,
   "metadata": {},
   "outputs": [],
   "source": [
    "def revenueTry1(demSS, demFF, limit, priceSS, priceFF):\n",
    "    #You can only sell as many SS fares as the minimum of SS demand and booking limit\n",
    "    qtySS = min(demSS,limit)\n",
    "    #Revenue is simply quantitiy times price\n",
    "    revSS = qtySS*priceSS\n",
    "    revFF = demFF*priceFF\n",
    "    #Sum both classes's revenue together for total revenue\n",
    "    revTotal = revSS+revFF\n",
    "    return revTotal"
   ]
  },
  {
   "cell_type": "markdown",
   "metadata": {},
   "source": [
    "We then plug in the given values from above to get the revenue (you should get 88750 with the default values)"
   ]
  },
  {
   "cell_type": "code",
   "execution_count": null,
   "metadata": {},
   "outputs": [],
   "source": [
    "revenueTry1(demSS, demFF, limit, priceSS, priceFF)"
   ]
  },
  {
   "cell_type": "markdown",
   "metadata": {},
   "source": [
    "Before we go further, lets make sure our revenue formula considers more fringe cases:"
   ]
  },
  {
   "cell_type": "code",
   "execution_count": null,
   "metadata": {},
   "outputs": [],
   "source": [
    "#First change compared to Try1, we add plane capacity as an input variable\n",
    "def revenueTry2(demSS, demFF, limit, priceSS, priceFF, cap):\n",
    "    #Second change, you have to account for total plane capacity as well when checking how many SS seats you can sell. Also, you cannot sell negative seats.\n",
    "    qtySS = max( min(demSS, limit, cap) , 0)\n",
    "    revSS = qtySS*priceSS\n",
    "    #Third change, the FF quantity is also capacity limited, now taking into account how many seats we already sold to SS. Also, no negative seats.\n",
    "    qtyFF = max( min(demFF, cap-qtySS), 0)\n",
    "    #Fourth change, we now calculate revFF based on qtyFF\n",
    "    revFF = qtyFF*priceFF\n",
    "    revTotal = revSS+revFF\n",
    "    #Fifth change, our function now returns 3 values - revenue of each class individually and total revenue  \n",
    "    return revSS, revFF, revTotal"
   ]
  },
  {
   "cell_type": "markdown",
   "metadata": {},
   "source": [
    "Make sure this second version runs (with default values you should get 42000, 1700 and 43700)  "
   ]
  },
  {
   "cell_type": "code",
   "execution_count": null,
   "metadata": {},
   "outputs": [],
   "source": [
    "revenueTry2(99999, 2, limit, priceSS, priceFF, 150)"
   ]
  },
  {
   "cell_type": "code",
   "execution_count": null,
   "metadata": {},
   "outputs": [],
   "source": [
    "revenueTry2(-50, 100, limit, priceSS, priceFF, 150)"
   ]
  },
  {
   "cell_type": "markdown",
   "metadata": {},
   "source": [
    "- - - \n",
    "### Question 2\n",
    "\n",
    "*Using additional data, Maria has been able to estimate that the demand for SS fares actually follows a normal distribution, with mean 130 and standard deviation 45, and the demand for FF follows a normal distribution, with mean 55 and standard deviation 20. Update the model in Question 1 to predict the expected revenue (i.e., mean revenue) for one Lincoln-NYC flight when the booking limit for SS fare is 120. How does this number compare with the one you got in Question 1?* "
   ]
  },
  {
   "cell_type": "code",
   "execution_count": null,
   "metadata": {},
   "outputs": [],
   "source": [
    "#Storing the information in variables\n",
    "meanSS = 130\n",
    "stdSS = 45\n",
    "meanFF = 55\n",
    "stdFF = 20"
   ]
  },
  {
   "cell_type": "markdown",
   "metadata": {},
   "source": [
    "As we learned above, getting random variables in Python is super easy, we just use the numpy package `np.random.normal(mean, std, #Observations)`. Lets get us 100k demand observations for each class. They will be stored in vectors (essentially a row of 100k entries each with a demand)"
   ]
  },
  {
   "cell_type": "code",
   "execution_count": null,
   "metadata": {},
   "outputs": [],
   "source": [
    "numTrials = 100000\n",
    "numTrials = 100_000 #You can use underscores to breakdown larger numbers, so you make sure to enter the right number of zeros. The two lines are equivalent\n",
    "normDemSS = np.random.normal(meanSS, stdSS, numTrials)\n",
    "normDemFF = np.random.normal(meanFF, stdFF, numTrials)\n",
    "print(normDemSS[0:10]) #If you want to look at the first 10 demand entries for SS"
   ]
  },
  {
   "cell_type": "markdown",
   "metadata": {},
   "source": [
    "Now that we have the random demands and the revenue function, we need to plug in the values into the function 100k times. There are faster ways of doing this than what I am going to show (google \"code vectorization\" if you are interested), but this way works more generally and is more intuitive for most people starting with coding. In general, there are often dozens of ways to achieve the same outcome in Python. Which way you choose initially is irrelevant as long as the code works for your purposes. After that you can always make your code faster, cleaner, more asthetic."
   ]
  },
  {
   "cell_type": "code",
   "execution_count": null,
   "metadata": {},
   "outputs": [],
   "source": [
    "#First, we create an array to store the results of each run (100k rows, 3 columns - one for each class and the revenue total)\n",
    "simResults = np.zeros(shape=(numTrials,3)) \n",
    "\n",
    "# We now loop through the list of demands, and plug each set of demands into the revenue formula and store the outcomes\n",
    "for i in range(numTrials):\n",
    "    currentDemSS = normDemSS[i] \n",
    "    currentDemFF = normDemFF[i] \n",
    "    simResults[i,:] = revenueTry2(currentDemSS, currentDemFF, limit, priceSS, priceFF, cap)\n",
    "    \n",
    "#Look at the first rows of simResults, the first column contains the revenue for SS, second colum the revenue for FF and the third column the total revenue\n",
    "print(simResults[0:5,:])"
   ]
  },
  {
   "cell_type": "code",
   "execution_count": null,
   "metadata": {},
   "outputs": [],
   "source": [
    "print(np.mean(simResults, axis=0)) \n",
    "answerQ2 = np.mean(simResults, axis=0)[2]\n",
    "print(answerQ2)"
   ]
  },
  {
   "cell_type": "markdown",
   "metadata": {},
   "source": [
    "Given that you want the coveted OIDD321 return offer, you want to go the extra mile and plot the distribution of the revenues, and get some more descriptive statistics. Conveniently, this teaches some useful Python techniques. Note, this will require the `matplotlib` package for plotting and you can just skip this part if you want to just get the answers to the case."
   ]
  },
  {
   "cell_type": "code",
   "execution_count": null,
   "metadata": {},
   "outputs": [],
   "source": [
    "#Make sure the graphs display in line\n",
    "%matplotlib inline "
   ]
  },
  {
   "cell_type": "code",
   "execution_count": null,
   "metadata": {},
   "outputs": [],
   "source": [
    "plt.figure(figsize=[8,6]) #Tell Python that you want to start plotting and want the graph to be 6x4 inches (do not ask me why they have not used the clearly superior metric system)\n",
    "nums, bins, patches = plt.hist(simResults, bins=50, label=[\"RevSS\",\"RevFF\",\"RevTotal\"]) #You want a histogram from the results, spread across 50 values (the more values, the more granular the histogram). \n",
    "#Density=True returns the %likelihood of seeing a certain results, rather than absolute number of observations \n",
    "#label = [\"RevSS\",\"RevFF\",\"RevTotal\"] tells matplotlib the description for each of the three columns, so it knows what to put in the legend\n",
    "plt.xlabel('USD',fontsize=15) #The label at the x-axis should say USD in size 15\n",
    "plt.ylabel('#Probability',fontsize=15) #The label at the y-axis should say #Probability in size 15\n",
    "plt.title('Revenue Graph BlueSky Distribution',fontsize=15) #Set title and fontsize\n",
    "plt.ylim((0,15000)) #Set the y-axis to go from 0 to 15,000. There are a lot more observations for SS revenue at the booking limit revenue of 42000\n",
    "plt.legend() #Plot legend\n",
    "plt.show()"
   ]
  },
  {
   "cell_type": "markdown",
   "metadata": {},
   "source": [
    "To lazily get some descriptive statistics, we import the `pandas` package - you may notice a trend here. If you want to accomplish something, most likely some smart software developer somewhere has always made it available, you just need to import it. \n",
    "Pandas in general is used for a lot of data analysis/science in Python and comes close to an Excel way of thinking as one of its core datastructures (the `DataFrame`), is essentially a massive table that you can manipulate. \n",
    "We now load our result variable into this *DataFrame* structure and then can use all of pandas functionality - in this case the `describe()` function that simply returns descriptive statistics."
   ]
  },
  {
   "cell_type": "code",
   "execution_count": null,
   "metadata": {},
   "outputs": [],
   "source": [
    "import pandas as pd\n",
    "#You can use the optional \"colums\" parameter in pd.DataFrame() to give your columns names, which is useful for subsequent identification.\n",
    "resDF = pd.DataFrame(simResults, columns=[\"RevSS\", \"RevFF\",\"RevTotal\"]) \n",
    "resDF.describe().round(2)"
   ]
  },
  {
   "cell_type": "markdown",
   "metadata": {},
   "source": [
    "- - - \n",
    "### Question 3\n",
    "*Consider now the following change in the model you constructed in Question 2: the demand for SS fares and FF fares is positively correlated, with a correlation coefficient of 0.6. How would the mean and variance of the revenue compare with the values in Question 2?*"
   ]
  },
  {
   "cell_type": "markdown",
   "metadata": {},
   "source": [
    "So we can use the same approach as in Q2, but we have to generate corelated demands. If you have no idea how to do this in Python, you could google \"numpy correlated random numbers\" and the first link for me is to https://numpy.org/doc/stable/reference/random/generated/numpy.random.multivariate_normal.html that describes how to do it. The only wrinkle is you need to specify the covariance matrix. I spare you the details, but for the two series of demands this is a 2x2 matrix with the top left element being the variance (variance = std squared) of SS, the bottom right element being the variance of FF and the other two elements being the covariance."
   ]
  },
  {
   "cell_type": "code",
   "execution_count": null,
   "metadata": {},
   "outputs": [],
   "source": [
    "#We have to create the covariance matrix.\n",
    "varSS = stdSS**2 #variance of SS\n",
    "varFF = stdFF**2 #variance of FF\n",
    "cor = 0.6 #Correlation between factors\n",
    "covSSFF = cor*stdSS*stdFF #Covariance\n",
    "covMatrix = [[varSS, covSSFF], #Fill out the matrix\n",
    "             [covSSFF, varFF]]\n",
    "#Now we call the function as on the website, with the two mean demands, the covariance matrix and the number number of replications we want\n",
    "corDems = np.random.multivariate_normal([meanSS,meanFF], covMatrix, size=numTrials)\n",
    "print(corDems[0:5,:])"
   ]
  },
  {
   "cell_type": "markdown",
   "metadata": {},
   "source": [
    "Lets quickly check that this actually worked. Each column in `corDems` should be a demand vector and they should be correlated with 0.6. We will first plot it and then check the correlation coefficient between two series with `np.corrcoef()` as well as mean with `np.mean()` and std dev with `np.std()`."
   ]
  },
  {
   "cell_type": "code",
   "execution_count": null,
   "metadata": {},
   "outputs": [],
   "source": [
    "plt.scatter(corDems[:,0],corDems[:,1])"
   ]
  },
  {
   "cell_type": "code",
   "execution_count": null,
   "metadata": {},
   "outputs": [],
   "source": [
    "corcoef = np.corrcoef(corDems[:,0],corDems[:,1])\n",
    "means = np.mean(corDems[:,:],axis=0)\n",
    "stds = np.std(corDems[:,:],axis=0)\n",
    "print(\"Correlation: \" + str(corcoef))\n",
    "print(\"Mean: \" + str(means))\n",
    "print(\"Std: \" + str(stds))"
   ]
  },
  {
   "cell_type": "code",
   "execution_count": null,
   "metadata": {},
   "outputs": [],
   "source": [
    "Q3Res = np.zeros(shape=(numTrials,3)) \n",
    "for i in range(numTrials):\n",
    "    Q3Res[i,:] = revenueTry2(corDems[i,0], corDems[i,1], limit, priceSS, priceFF, cap)\n",
    "\n",
    "print(Q3Res[0:5,:])\n",
    "answerQ3 = Q3Res.mean(axis=0)[2]\n",
    "print(\"The average revenue under correlation now is \" + str(int(answerQ3)) +\" compared to \"+ str(int(answerQ2)) +\" from Q2.\")"
   ]
  },
  {
   "cell_type": "code",
   "execution_count": null,
   "metadata": {},
   "outputs": [],
   "source": [
    "plt.figure(figsize=[8,6]) \n",
    "nums, bins, patches = plt.hist(Q3Res, bins=50, label=[\"RevSS\",\"RevFF\",\"RevTotal\"]) #We only change the variable that contains the results\n",
    "plt.xlabel('USD',fontsize=15) \n",
    "plt.ylabel('#Probability',fontsize=15) \n",
    "plt.title('Revenue Graph BlueSky Distribution',fontsize=15) \n",
    "plt.ylim((0,15000)) \n",
    "plt.legend()\n",
    "plt.show()"
   ]
  },
  {
   "cell_type": "code",
   "execution_count": null,
   "metadata": {},
   "outputs": [],
   "source": [
    "resDF2 = pd.DataFrame(Q3Res, columns=[\"RevSS\", \"RevFF\",\"RevTotal\"]) \n",
    "resDF2.describe().round(2)"
   ]
  },
  {
   "cell_type": "markdown",
   "metadata": {},
   "source": [
    "So much for this little introduction. The **Python101** notebook contains some more detail on dictionaries, package usage and goes through a quick example of how to build a neural network in 15 lines of code. Hopefully you enjoyed this introduction into Python and could glimpes at the power of knowing how to program. May your code be bug-free and your stackoverflow reputation infinite."
   ]
  },
  {
   "cell_type": "code",
   "execution_count": null,
   "metadata": {},
   "outputs": [],
   "source": []
  }
 ],
 "metadata": {
  "kernelspec": {
   "display_name": "Python [conda env:DataEnv]",
   "language": "python",
   "name": "conda-env-DataEnv-py"
  },
  "language_info": {
   "codemirror_mode": {
    "name": "ipython",
    "version": 3
   },
   "file_extension": ".py",
   "mimetype": "text/x-python",
   "name": "python",
   "nbconvert_exporter": "python",
   "pygments_lexer": "ipython3",
   "version": "3.6.13"
  }
 },
 "nbformat": 4,
 "nbformat_minor": 4
}
